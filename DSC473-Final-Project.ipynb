{
 "cells": [
  {
   "cell_type": "markdown",
   "id": "2e30babb",
   "metadata": {},
   "source": [
    "# DSC 473 - Programming for Big data Project\n",
    "\n"
   ]
  },
  {
   "cell_type": "markdown",
   "id": "12b9d179",
   "metadata": {},
   "source": [
    "## Team mumbers:\n",
    "   - AHMED ALHASANI : 220xxxxxxxx\n",
    "-  BANDAR ALMURAYKHI` : 219xxxxxxxx"
   ]
  },
  {
   "cell_type": "markdown",
   "id": "a7f52324",
   "metadata": {},
   "source": [
    "## Dataset: \n",
    "\n",
    "<img src=\"./images/yellow_taxi.jpg\">\n",
    "\n",
    "###  NYC Taxi Trip Data : https://www.nyc.gov/site/tlc/about/tlc-trip-record-data.page\n",
    "\n",
    "\n"
   ]
  },
  {
   "cell_type": "code",
   "execution_count": 1,
   "id": "1b13a85c",
   "metadata": {},
   "outputs": [
    {
     "data": {
      "text/plain": [
       "'C:\\\\Users\\\\ahmed\\\\anaconda3\\\\envs\\\\pyspark-Lab5-env\\\\Lib\\\\site-packages\\\\pyspark'"
      ]
     },
     "execution_count": 1,
     "metadata": {},
     "output_type": "execute_result"
    }
   ],
   "source": [
    "import findspark \n",
    "findspark.init()\n",
    "findspark.find()"
   ]
  },
  {
   "cell_type": "code",
   "execution_count": 2,
   "id": "bfbca219",
   "metadata": {},
   "outputs": [],
   "source": [
    "import os\n",
    "os.environ[\"JAVA_HOME\"] = \"C:\\Java\\jdk-1.8\"\n"
   ]
  },
  {
   "cell_type": "code",
   "execution_count": 1,
   "id": "fa650af5",
   "metadata": {},
   "outputs": [
    {
     "name": "stderr",
     "output_type": "stream",
     "text": [
      "Setting default log level to \"WARN\".\n",
      "To adjust logging level use sc.setLogLevel(newLevel). For SparkR, use setLogLevel(newLevel).\n",
      "23/12/08 15:05:20 WARN NativeCodeLoader: Unable to load native-hadoop library for your platform... using builtin-java classes where applicable\n"
     ]
    }
   ],
   "source": [
    "from pyspark.sql import SparkSession\n",
    "\n",
    "# Create a SparkSession\n",
    "spark = SparkSession.builder.config(\"spark.driver.host\", \"localhost\").appName('Project App').getOrCreate()"
   ]
  },
  {
   "cell_type": "code",
   "execution_count": 2,
   "id": "30e71970",
   "metadata": {},
   "outputs": [],
   "source": [
    "import pandas as pd\n",
    "import numpy as np"
   ]
  },
  {
   "cell_type": "markdown",
   "id": "04d84e68",
   "metadata": {},
   "source": [
    "## Task 1"
   ]
  },
  {
   "cell_type": "markdown",
   "id": "cf50d2c7",
   "metadata": {},
   "source": [
    "Write a program to import the dataset into Spark."
   ]
  },
  {
   "cell_type": "code",
   "execution_count": 3,
   "id": "822c458c",
   "metadata": {},
   "outputs": [
    {
     "name": "stderr",
     "output_type": "stream",
     "text": [
      "                                                                                \r"
     ]
    }
   ],
   "source": [
    "df = spark.read.csv('./dataset/2020_Yellow_Taxi_Trip_Data.csv', header=True, inferSchema=True)"
   ]
  },
  {
   "cell_type": "markdown",
   "id": "b2305f91",
   "metadata": {},
   "source": [
    "## Task 2\n",
    "\n",
    "- Explore the dataset to identify any issues ( missing values, outliers, etc).\n",
    "- Write a Spark program to clean the dataset.\n",
    "\n",
    "- To manually Defining the Schema if needed:"
   ]
  },
  {
   "cell_type": "code",
   "execution_count": 4,
   "id": "4c6223ac",
   "metadata": {},
   "outputs": [
    {
     "name": "stdout",
     "output_type": "stream",
     "text": [
      "+--------+--------------------+---------------------+---------------+-------------+----------+------------------+------------+------------+------------+-----------+-----+-------+----------+------------+---------------------+------------+--------------------+\n",
      "|VendorID|tpep_pickup_datetime|tpep_dropoff_datetime|passenger_count|trip_distance|RatecodeID|store_and_fwd_flag|PULocationID|DOLocationID|payment_type|fare_amount|extra|mta_tax|tip_amount|tolls_amount|improvement_surcharge|total_amount|congestion_surcharge|\n",
      "+--------+--------------------+---------------------+---------------+-------------+----------+------------------+------------+------------+------------+-----------+-----+-------+----------+------------+---------------------+------------+--------------------+\n",
      "|       1|01/01/2020 12:28:...| 01/01/2020 12:33:...|              1|          1.2|         1|                 N|         238|         239|           1|        6.0|  3.0|    0.5|      1.47|         0.0|                  0.3|       11.27|                 2.5|\n",
      "|       1|01/01/2020 12:35:...| 01/01/2020 12:43:...|              1|          1.2|         1|                 N|         239|         238|           1|        7.0|  3.0|    0.5|       1.5|         0.0|                  0.3|        12.3|                 2.5|\n",
      "|       1|01/01/2020 12:47:...| 01/01/2020 12:53:...|              1|          0.6|         1|                 N|         238|         238|           1|        6.0|  3.0|    0.5|       1.0|         0.0|                  0.3|        10.8|                 2.5|\n",
      "|       1|01/01/2020 12:55:...| 01/01/2020 01:00:...|              1|          0.8|         1|                 N|         238|         151|           1|        5.5|  0.5|    0.5|      1.36|         0.0|                  0.3|        8.16|                 0.0|\n",
      "|       2|01/01/2020 12:01:...| 01/01/2020 12:04:...|              1|          0.0|         1|                 N|         193|         193|           2|        3.5|  0.5|    0.5|       0.0|         0.0|                  0.3|         4.8|                 0.0|\n",
      "|       2|01/01/2020 12:09:...| 01/01/2020 12:10:...|              1|         0.03|         1|                 N|           7|         193|           2|        2.5|  0.5|    0.5|       0.0|         0.0|                  0.3|         3.8|                 0.0|\n",
      "|       2|01/01/2020 12:39:...| 01/01/2020 12:39:...|              1|          0.0|         1|                 N|         193|         193|           1|        2.5|  0.5|    0.5|      0.01|         0.0|                  0.3|        3.81|                 0.0|\n",
      "|       2|12/18/2019 03:27:...| 12/18/2019 03:28:...|              1|          0.0|         5|                 N|         193|         193|           1|       0.01|  0.0|    0.0|       0.0|         0.0|                  0.3|        2.81|                 2.5|\n",
      "|       2|12/18/2019 03:30:...| 12/18/2019 03:31:...|              4|          0.0|         1|                 N|         193|         193|           1|        2.5|  0.5|    0.5|       0.0|         0.0|                  0.3|         6.3|                 2.5|\n",
      "|       1|01/01/2020 12:29:...| 01/01/2020 12:40:...|              2|          0.7|         1|                 N|         246|          48|           1|        8.0|  3.0|    0.5|      2.35|         0.0|                  0.3|       14.15|                 2.5|\n",
      "|       1|01/01/2020 12:55:...| 01/01/2020 01:12:...|              2|          2.4|         1|                 N|         246|          79|           1|       12.0|  3.0|    0.5|      1.75|         0.0|                  0.3|       17.55|                 2.5|\n",
      "|       1|01/01/2020 12:37:...| 01/01/2020 12:51:...|              1|          0.8|         1|                 N|         163|         161|           2|        9.5|  3.0|    0.5|       0.0|         0.0|                  0.3|        13.3|                 2.5|\n",
      "|       1|01/01/2020 12:56:...| 01/01/2020 01:21:...|              1|          3.3|         1|                 N|         161|         144|           1|       17.0|  3.0|    0.5|      4.15|         0.0|                  0.3|       24.95|                 2.5|\n",
      "|       2|01/01/2020 12:21:...| 01/01/2020 12:27:...|              1|         1.07|         1|                 N|          43|         239|           1|        6.0|  0.5|    0.5|      1.96|         0.0|                  0.3|       11.76|                 2.5|\n",
      "|       2|01/01/2020 12:38:...| 01/01/2020 01:15:...|              1|         7.76|         1|                 N|         143|          25|           1|       28.5|  0.5|    0.5|      4.84|         0.0|                  0.3|       37.14|                 2.5|\n",
      "|       1|01/01/2020 12:15:...| 01/01/2020 12:27:...|              3|          1.6|         1|                 N|         211|         234|           2|        9.0|  3.0|    0.5|       0.0|         0.0|                  0.3|        12.8|                 2.5|\n",
      "|       1|01/01/2020 12:41:...| 01/01/2020 12:44:...|              1|          0.5|         1|                 Y|         234|          90|           1|        4.0|  3.0|    0.5|       1.0|         0.0|                  0.3|         8.8|                 2.5|\n",
      "|       1|01/01/2020 12:56:...| 01/01/2020 01:13:...|              1|          1.7|         1|                 N|         246|         142|           2|       11.5|  3.0|    0.5|       0.0|         0.0|                  0.3|        15.3|                 2.5|\n",
      "|       2|01/01/2020 12:08:...| 01/01/2020 12:25:...|              1|         8.45|         1|                 N|         138|         216|           2|       24.5|  0.5|    0.5|       0.0|         0.0|                  0.3|        25.8|                 0.0|\n",
      "|       1|01/01/2020 12:25:...| 01/01/2020 12:27:...|              1|          0.0|         1|                 N|         170|         162|           4|        3.0|  3.0|    0.5|       0.0|         0.0|                  0.3|         6.8|                 2.5|\n",
      "+--------+--------------------+---------------------+---------------+-------------+----------+------------------+------------+------------+------------+-----------+-----+-------+----------+------------+---------------------+------------+--------------------+\n",
      "only showing top 20 rows\n",
      "\n"
     ]
    }
   ],
   "source": [
    "df.show()"
   ]
  },
  {
   "cell_type": "code",
   "execution_count": 5,
   "id": "cc32ff56",
   "metadata": {},
   "outputs": [
    {
     "name": "stderr",
     "output_type": "stream",
     "text": [
      "                                                                                \r"
     ]
    },
    {
     "name": "stdout",
     "output_type": "stream",
     "text": [
      "Number of rows: 24648499\n",
      "Number of columns: 18\n"
     ]
    }
   ],
   "source": [
    "# Number of rows\n",
    "num_rows = df.count()\n",
    "\n",
    "# Number of columns\n",
    "num_columns = len(df.columns)\n",
    "\n",
    "print(\"Number of rows:\", num_rows)\n",
    "print(\"Number of columns:\", num_columns)\n"
   ]
  },
  {
   "cell_type": "markdown",
   "id": "26b36e72",
   "metadata": {},
   "source": [
    "in our data we can see the number of rows is `24,648,499` and we have `18` columns"
   ]
  },
  {
   "cell_type": "code",
   "execution_count": 10,
   "id": "bdb01aed",
   "metadata": {},
   "outputs": [
    {
     "name": "stdout",
     "output_type": "stream",
     "text": [
      "['VendorID', 'tpep_pickup_datetime', 'tpep_dropoff_datetime', 'passenger_count', 'trip_distance', 'RatecodeID', 'store_and_fwd_flag', 'PULocationID', 'DOLocationID', 'payment_type', 'fare_amount', 'extra', 'mta_tax', 'tip_amount', 'tolls_amount', 'improvement_surcharge', 'total_amount', 'congestion_surcharge']\n"
     ]
    }
   ],
   "source": [
    "# Print all columns\n",
    "print(df.columns)"
   ]
  },
  {
   "cell_type": "code",
   "execution_count": 9,
   "id": "0b638db2",
   "metadata": {},
   "outputs": [
    {
     "name": "stderr",
     "output_type": "stream",
     "text": [
      "[Stage 9:=====================================================>   (17 + 1) / 18]\r"
     ]
    },
    {
     "name": "stdout",
     "output_type": "stream",
     "text": [
      "+-------+-------------------+--------------------+---------------------+------------------+------------------+------------------+------------------+------------------+------------------+------------------+-----------------+------------------+------------------+------------------+------------------+---------------------+------------------+--------------------+\n",
      "|summary|           VendorID|tpep_pickup_datetime|tpep_dropoff_datetime|   passenger_count|     trip_distance|        RatecodeID|store_and_fwd_flag|      PULocationID|      DOLocationID|      payment_type|      fare_amount|             extra|           mta_tax|        tip_amount|      tolls_amount|improvement_surcharge|      total_amount|congestion_surcharge|\n",
      "+-------+-------------------+--------------------+---------------------+------------------+------------------+------------------+------------------+------------------+------------------+------------------+-----------------+------------------+------------------+------------------+------------------+---------------------+------------------+--------------------+\n",
      "|  count|           23838931|            24648499|             24648499|          23838931|          24648499|          23838931|          23838931|          24648499|          24648499|          23838931|         24648499|          24648499|          24648499|          24648499|          24648499|             24648499|          24648499|            24648499|\n",
      "|   mean| 1.6673271548963333|                NULL|                 NULL|1.4679862951908371|3.5270614652842847|1.0485574625808514|              NULL|163.96908124101188|161.17097467070917|1.2804025063036593|12.66764468619033|1.0718170364045334|0.5127971618068914| 2.082060782686929|0.3038567804877658|  0.29755567265264715|18.421629163100608|  2.2121607303552238|\n",
      "| stddev|0.47117049201628475|                NULL|                 NULL| 1.112782912837244|325.03586653166155|0.7610861223211405|              NULL|  66.7515411014533| 70.95615098216933|0.4843898650506424|274.0914432074762|100.71811833324651|100.71053292564316|2.6107531175011207| 1.604868485587524|  0.03745064546816044|340.22857402357914|  0.8211436751475297|\n",
      "|    min|                  1|01/01/2003 12:07:...| 01/01/2003 02:16:...|                 0|            -30.62|                 1|                 N|                 1|                 1|                 1|          -1259.0|             -27.0|              -0.5|           -493.22|             -40.0|                 -0.3|           -1260.3|                -2.5|\n",
      "|    max|                  2|12/31/2020 12:59:...| 12/31/2020 12:59:...|                 9|         350914.89|                99|                 Y|               265|               265|                 5|        998310.03|          500000.8|          500000.5|           1393.56|             925.5|                  0.3|         1000003.8|                 3.0|\n",
      "+-------+-------------------+--------------------+---------------------+------------------+------------------+------------------+------------------+------------------+------------------+------------------+-----------------+------------------+------------------+------------------+------------------+---------------------+------------------+--------------------+\n",
      "\n"
     ]
    },
    {
     "name": "stderr",
     "output_type": "stream",
     "text": [
      "                                                                                \r"
     ]
    }
   ],
   "source": [
    "# Generate summary statistics for all numeric columns in the DataFrame.\n",
    "# This includes counts, mean, standard deviation, min, and max values for each column.\n",
    "df.describe().show()"
   ]
  },
  {
   "cell_type": "markdown",
   "id": "a6386b26",
   "metadata": {},
   "source": [
    "You can see a statistical summary for each column"
   ]
  },
  {
   "cell_type": "code",
   "execution_count": 11,
   "id": "6592fb5e",
   "metadata": {},
   "outputs": [
    {
     "name": "stderr",
     "output_type": "stream",
     "text": [
      "[Stage 12:====================================================>   (17 + 1) / 18]\r"
     ]
    },
    {
     "name": "stdout",
     "output_type": "stream",
     "text": [
      "+-------+------------------+--------------------+\n",
      "|summary|        tip_amount|tpep_pickup_datetime|\n",
      "+-------+------------------+--------------------+\n",
      "|  count|          24648499|            24648499|\n",
      "|   mean| 2.082060782686929|                NULL|\n",
      "| stddev|2.6107531175011207|                NULL|\n",
      "|    min|           -493.22|01/01/2003 12:07:...|\n",
      "|    max|           1393.56|12/31/2020 12:59:...|\n",
      "+-------+------------------+--------------------+\n",
      "\n"
     ]
    },
    {
     "name": "stderr",
     "output_type": "stream",
     "text": [
      "                                                                                \r"
     ]
    }
   ],
   "source": [
    "df.describe(['tip_amount','tpep_pickup_datetime']).show()"
   ]
  },
  {
   "cell_type": "markdown",
   "id": "23a698f6",
   "metadata": {},
   "source": [
    "### Checking the Schema and Summary Statistics\n",
    "Verify the schema of the DataFrame and view summary statistics for numeric columns to understand the data types and basic statistical information."
   ]
  },
  {
   "cell_type": "code",
   "execution_count": 12,
   "id": "7a1aa2a7",
   "metadata": {},
   "outputs": [
    {
     "name": "stdout",
     "output_type": "stream",
     "text": [
      "root\n",
      " |-- VendorID: integer (nullable = true)\n",
      " |-- tpep_pickup_datetime: string (nullable = true)\n",
      " |-- tpep_dropoff_datetime: string (nullable = true)\n",
      " |-- passenger_count: integer (nullable = true)\n",
      " |-- trip_distance: double (nullable = true)\n",
      " |-- RatecodeID: integer (nullable = true)\n",
      " |-- store_and_fwd_flag: string (nullable = true)\n",
      " |-- PULocationID: integer (nullable = true)\n",
      " |-- DOLocationID: integer (nullable = true)\n",
      " |-- payment_type: integer (nullable = true)\n",
      " |-- fare_amount: double (nullable = true)\n",
      " |-- extra: double (nullable = true)\n",
      " |-- mta_tax: double (nullable = true)\n",
      " |-- tip_amount: double (nullable = true)\n",
      " |-- tolls_amount: double (nullable = true)\n",
      " |-- improvement_surcharge: double (nullable = true)\n",
      " |-- total_amount: double (nullable = true)\n",
      " |-- congestion_surcharge: double (nullable = true)\n",
      "\n"
     ]
    }
   ],
   "source": [
    "df.printSchema()  # Display the schema"
   ]
  },
  {
   "cell_type": "markdown",
   "id": "5e2441f9",
   "metadata": {},
   "source": [
    "- Using printSchema, we can see the columns we have with the data type of that column"
   ]
  },
  {
   "cell_type": "markdown",
   "id": "8ae85d19",
   "metadata": {},
   "source": [
    "### Checking for Missing Values\n",
    "Identify columns with missing values and count the number of missing values in each column."
   ]
  },
  {
   "cell_type": "code",
   "execution_count": 13,
   "id": "ef14b64d",
   "metadata": {},
   "outputs": [
    {
     "name": "stderr",
     "output_type": "stream",
     "text": [
      "[Stage 15:====================================================>   (17 + 1) / 18]\r"
     ]
    },
    {
     "name": "stdout",
     "output_type": "stream",
     "text": [
      "+--------+--------------------+---------------------+---------------+-------------+----------+------------------+------------+------------+------------+-----------+-----+-------+----------+------------+---------------------+------------+--------------------+\n",
      "|VendorID|tpep_pickup_datetime|tpep_dropoff_datetime|passenger_count|trip_distance|RatecodeID|store_and_fwd_flag|PULocationID|DOLocationID|payment_type|fare_amount|extra|mta_tax|tip_amount|tolls_amount|improvement_surcharge|total_amount|congestion_surcharge|\n",
      "+--------+--------------------+---------------------+---------------+-------------+----------+------------------+------------+------------+------------+-----------+-----+-------+----------+------------+---------------------+------------+--------------------+\n",
      "|  809568|                   0|                    0|         809568|            0|    809568|            809568|           0|           0|      809568|          0|    0|      0|         0|           0|                    0|           0|                   0|\n",
      "+--------+--------------------+---------------------+---------------+-------------+----------+------------------+------------+------------+------------+-----------+-----+-------+----------+------------+---------------------+------------+--------------------+\n",
      "\n"
     ]
    },
    {
     "name": "stderr",
     "output_type": "stream",
     "text": [
      "                                                                                \r"
     ]
    }
   ],
   "source": [
    "from pyspark.sql.functions import col, sum as spark_sum\n",
    "# Calculate the count of missing values for each column\n",
    "missing_values_count = df.select([spark_sum(col(c).isNull().cast('int')).alias(c) for c in df.columns])\n",
    "\n",
    "# Show the count of missing values for each column\n",
    "missing_values_count.show()\n"
   ]
  },
  {
   "cell_type": "markdown",
   "id": "15a22b22",
   "metadata": {},
   "source": [
    "We have `809,568` missing values in:\n",
    "\n",
    "1-VendorID\n",
    "\n",
    "2-passenger_count\n",
    "\n",
    "3-RatecodeID\n",
    "\n",
    "4-store_and_fwd_flag\n",
    "\n",
    "5-payment_type\n",
    "\n",
    "- `809,568` represents approximately `3.3%` of total rows, meaning it is a very small percentage compared to the total number of data that we have, which is `24,648,499`.\n",
    "\n",
    "- that will take us to drop all rows that contains any missing values"
   ]
  },
  {
   "cell_type": "markdown",
   "id": "c828f845",
   "metadata": {},
   "source": [
    "## remove the missing values"
   ]
  },
  {
   "cell_type": "code",
   "execution_count": 14,
   "id": "4a708567",
   "metadata": {},
   "outputs": [
    {
     "name": "stderr",
     "output_type": "stream",
     "text": [
      "[Stage 18:====================================================>   (17 + 1) / 18]\r"
     ]
    },
    {
     "name": "stdout",
     "output_type": "stream",
     "text": [
      "+--------+--------------------+---------------------+---------------+-------------+----------+------------------+------------+------------+------------+-----------+-----+-------+----------+------------+---------------------+------------+--------------------+\n",
      "|VendorID|tpep_pickup_datetime|tpep_dropoff_datetime|passenger_count|trip_distance|RatecodeID|store_and_fwd_flag|PULocationID|DOLocationID|payment_type|fare_amount|extra|mta_tax|tip_amount|tolls_amount|improvement_surcharge|total_amount|congestion_surcharge|\n",
      "+--------+--------------------+---------------------+---------------+-------------+----------+------------------+------------+------------+------------+-----------+-----+-------+----------+------------+---------------------+------------+--------------------+\n",
      "|       0|                   0|                    0|              0|            0|         0|                 0|           0|           0|           0|          0|    0|      0|         0|           0|                    0|           0|                   0|\n",
      "+--------+--------------------+---------------------+---------------+-------------+----------+------------------+------------+------------+------------+-----------+-----+-------+----------+------------+---------------------+------------+--------------------+\n",
      "\n"
     ]
    },
    {
     "name": "stderr",
     "output_type": "stream",
     "text": [
      "                                                                                \r"
     ]
    }
   ],
   "source": [
    "from pyspark.sql.functions import col, count, when\n",
    "# Drop rows with any null value in any column\n",
    "df2 = df.dropna()\n",
    "\n",
    "# Calculate the count of missing (null) values for each column\n",
    "missing_counts2 = df2.select([count(when(col(c).isNull(), c)).alias(c) for c in df.columns])\n",
    "\n",
    "# Show the counts of missing (null)values per column\n",
    "missing_counts2.show() \n"
   ]
  },
  {
   "cell_type": "markdown",
   "id": "e106243b",
   "metadata": {},
   "source": [
    "- we can see that we dont have any missing values, and the dataset is ready to answer on the qustions."
   ]
  },
  {
   "cell_type": "markdown",
   "id": "c86ffd0b",
   "metadata": {},
   "source": [
    "# Task 3"
   ]
  },
  {
   "cell_type": "markdown",
   "id": "146d05e4",
   "metadata": {},
   "source": [
    "### Question 1 "
   ]
  },
  {
   "cell_type": "markdown",
   "id": "2e147c43",
   "metadata": {},
   "source": [
    "#### What is the average of the trip distance?"
   ]
  },
  {
   "cell_type": "code",
   "execution_count": 15,
   "id": "ce395cf9",
   "metadata": {},
   "outputs": [
    {
     "name": "stderr",
     "output_type": "stream",
     "text": [
      "[Stage 21:====================================================>   (17 + 1) / 18]\r"
     ]
    },
    {
     "name": "stdout",
     "output_type": "stream",
     "text": [
      "+------------------+\n",
      "|avg(trip_distance)|\n",
      "+------------------+\n",
      "|2.7470825671670576|\n",
      "+------------------+\n",
      "\n"
     ]
    },
    {
     "name": "stderr",
     "output_type": "stream",
     "text": [
      "                                                                                \r"
     ]
    }
   ],
   "source": [
    "from pyspark.sql.functions import col, mean\n",
    "# Calculate the average of the 'trip_distance' column in the DataFrame 'df'.\n",
    "# The 'mean' function from PySpark's SQL functions is used to compute the average,\n",
    "# and 'col' is used to refer to the 'trip_distance' column.\n",
    "# The result, which is the average trip distance, is then displayed using the 'show()' method.\n",
    "df2.select(mean(col('trip_distance'))).show()"
   ]
  },
  {
   "cell_type": "markdown",
   "id": "de70c1fd",
   "metadata": {},
   "source": [
    "- The average distance traveled per trip is `2.7` miles reported by taximeter."
   ]
  },
  {
   "cell_type": "markdown",
   "id": "2d3b62fa",
   "metadata": {},
   "source": [
    "### Question 2"
   ]
  },
  {
   "cell_type": "markdown",
   "id": "4ec5bf45",
   "metadata": {},
   "source": [
    "#### How many taxi trips per hour?"
   ]
  },
  {
   "cell_type": "code",
   "execution_count": 16,
   "id": "566c4b2b",
   "metadata": {},
   "outputs": [
    {
     "name": "stderr",
     "output_type": "stream",
     "text": [
      "[Stage 24:====================================================>   (17 + 1) / 18]\r"
     ]
    },
    {
     "name": "stdout",
     "output_type": "stream",
     "text": [
      "+----+-------+\n",
      "|hour|  count|\n",
      "+----+-------+\n",
      "|   0| 524776|\n",
      "|   1| 358419|\n",
      "|   2| 240967|\n",
      "|   3| 172506|\n",
      "|   4| 134345|\n",
      "|   5| 181820|\n",
      "|   6| 470882|\n",
      "|   7| 856183|\n",
      "|   8|1133937|\n",
      "|   9|1160286|\n",
      "|  10|1198387|\n",
      "|  11|1274596|\n",
      "|  12|1387694|\n",
      "|  13|1426775|\n",
      "|  14|1523877|\n",
      "|  15|1552176|\n",
      "|  16|1478875|\n",
      "|  17|1596758|\n",
      "|  18|1654029|\n",
      "|  19|1439597|\n",
      "|  20|1200391|\n",
      "|  21|1117454|\n",
      "|  22|1001868|\n",
      "|  23| 752333|\n",
      "+----+-------+\n",
      "\n"
     ]
    },
    {
     "name": "stderr",
     "output_type": "stream",
     "text": [
      "                                                                                \r"
     ]
    }
   ],
   "source": [
    "from pyspark.sql.functions import to_timestamp, hour\n",
    "\n",
    "# This code transforms the 'df' DataFrame by extracting the hour from the 'tpep_pickup_datetime' column,\n",
    "# and then adds this as a new column named 'hour'. It then groups the DataFrame by this 'hour' column,\n",
    "# counts the number of records for each hour, and orders the result by the hour.\n",
    "# This is useful for analyzing the distribution of data across different hours of the day.\n",
    "# Finally, it displays the count of records for each hour using the 'show()' method.\n",
    "\n",
    "# df.withColumn('hour', hour(col('tpep_pickup_datetime'))).groupBy('hour').count().orderBy('hour').show()\n",
    "# The code above didn't work because the column type is a string not a datetime format.\n",
    "\n",
    "# Inspect the first few rows of the column\n",
    "# df.select('tpep_pickup_datetime').show(truncate=False)\n",
    "\n",
    "# Convert 'tpep_pickup_datetime' from string to datetime format\n",
    "df2t = df2.withColumn('tpep_pickup_datetime', to_timestamp('tpep_pickup_datetime', 'MM/dd/yyyy hh:mm:ss a'))\n",
    "\n",
    "# Extract hour, group by the hour, count, order by the hour, and display the result\n",
    "df2t.withColumn('hour', hour('tpep_pickup_datetime')).groupBy('hour').count().orderBy('hour').show(24)"
   ]
  },
  {
   "cell_type": "markdown",
   "id": "5caba3a7",
   "metadata": {},
   "source": [
    "- We can see the number of taxi trips per hour"
   ]
  },
  {
   "cell_type": "markdown",
   "id": "61dcd401",
   "metadata": {},
   "source": [
    "#### What is the peak hour and least busy hour and show the avrage trips for each hour?"
   ]
  },
  {
   "cell_type": "code",
   "execution_count": 17,
   "id": "24e53621",
   "metadata": {},
   "outputs": [
    {
     "name": "stderr",
     "output_type": "stream",
     "text": [
      "                                                                                \r"
     ]
    },
    {
     "name": "stdout",
     "output_type": "stream",
     "text": [
      "Peak Hour: 18 with 1654029 records\n"
     ]
    },
    {
     "name": "stderr",
     "output_type": "stream",
     "text": [
      "                                                                                \r"
     ]
    },
    {
     "name": "stdout",
     "output_type": "stream",
     "text": [
      "Least Busy Hour: 4 with 134345 records\n"
     ]
    },
    {
     "name": "stderr",
     "output_type": "stream",
     "text": [
      "[Stage 33:====================================================>   (17 + 1) / 18]\r"
     ]
    },
    {
     "name": "stdout",
     "output_type": "stream",
     "text": [
      "+----+------------------+\n",
      "|hour|   avg(tip_amount)|\n",
      "+----+------------------+\n",
      "|   0|2.2406267626568783|\n",
      "|   1| 2.054814923316039|\n",
      "|   2| 1.915449501384015|\n",
      "|   3|1.9186461920165043|\n",
      "|   4|2.0390742491346896|\n",
      "|   5| 2.288008304916951|\n",
      "|   6| 1.924910444654932|\n",
      "|   7| 1.969723657208829|\n",
      "|   8|2.0342175711702173|\n",
      "|   9| 1.992501159197004|\n",
      "|  10|1.9410012291522367|\n",
      "|  11|1.9109827663040395|\n",
      "|  12|1.9272653913615285|\n",
      "|  13| 1.954740284908278|\n",
      "|  14|2.0077145727640677|\n",
      "|  15|2.0403582003587073|\n",
      "|  16|2.1734307835347475|\n",
      "|  17|2.1871296652341297|\n",
      "|  18| 2.191396390268788|\n",
      "|  19| 2.174424835561582|\n",
      "|  20| 2.260145702525249|\n",
      "|  21| 2.314985135853445|\n",
      "|  22| 2.353222320704919|\n",
      "|  23| 2.284444853542311|\n",
      "+----+------------------+\n",
      "\n"
     ]
    },
    {
     "name": "stderr",
     "output_type": "stream",
     "text": [
      "                                                                                \r"
     ]
    }
   ],
   "source": [
    "from pyspark.sql.functions import max as max_, min as min_\n",
    "\n",
    "# Group by hour and count\n",
    "hourly_counts = df2t.withColumn('hour', hour('tpep_pickup_datetime')).groupBy('hour').count()\n",
    "\n",
    "# Find the peak hour\n",
    "peak_hour = hourly_counts.orderBy(hourly_counts['count'].desc()).first()\n",
    "print(f\"Peak Hour: {peak_hour['hour']} with {peak_hour['count']} records\")\n",
    "\n",
    "# Find the least busy hour\n",
    "least_busy_hour = hourly_counts.orderBy(hourly_counts['count']).first()\n",
    "print(f\"Least Busy Hour: {least_busy_hour['hour']} with {least_busy_hour['count']} records\")\n",
    "\n",
    "# Calculate and display average tip amount by hour\n",
    "df2tavg = df2t.withColumn('hour', hour(col('tpep_pickup_datetime'))).groupBy('hour').agg(mean('tip_amount')).orderBy('hour').show(24)"
   ]
  },
  {
   "cell_type": "markdown",
   "id": "599eada4",
   "metadata": {},
   "source": [
    "- At `6 PM`, the tip amount reaches its peak with `1,654,029` trips, while the lowest tip amount is observed at `4 AM` with `134,345` trips. It's important to note that the amount of tips given in cash is not included in these calculations."
   ]
  },
  {
   "cell_type": "markdown",
   "id": "d894ee49",
   "metadata": {},
   "source": [
    "### Question 3"
   ]
  },
  {
   "cell_type": "markdown",
   "id": "99f73bf7",
   "metadata": {},
   "source": [
    "#### What is  the Most Payment methods ?"
   ]
  },
  {
   "cell_type": "code",
   "execution_count": 18,
   "id": "8720f37d",
   "metadata": {},
   "outputs": [
    {
     "name": "stderr",
     "output_type": "stream",
     "text": [
      "[Stage 36:====================================================>   (17 + 1) / 18]\r"
     ]
    },
    {
     "name": "stdout",
     "output_type": "stream",
     "text": [
      "+------------+--------+\n",
      "|payment_type|   count|\n",
      "+------------+--------+\n",
      "|           1|17463663|\n",
      "|           3|  144463|\n",
      "|           4|   82360|\n",
      "|           2| 6148430|\n",
      "|           5|      15|\n",
      "+------------+--------+\n",
      "\n"
     ]
    },
    {
     "name": "stderr",
     "output_type": "stream",
     "text": [
      "                                                                                \r"
     ]
    }
   ],
   "source": [
    "df2.groupBy('payment_type').count().show()"
   ]
  },
  {
   "cell_type": "code",
   "execution_count": 20,
   "id": "0de7dfa4",
   "metadata": {},
   "outputs": [
    {
     "name": "stderr",
     "output_type": "stream",
     "text": [
      "[Stage 42:====================================================>   (17 + 1) / 18]\r"
     ]
    },
    {
     "name": "stdout",
     "output_type": "stream",
     "text": [
      "+-----------------+--------+\n",
      "|payment_type_name|   count|\n",
      "+-----------------+--------+\n",
      "|             Cash| 6148430|\n",
      "|          Dispute|   82360|\n",
      "|        No charge|  144463|\n",
      "|      Credit card|17463663|\n",
      "|          Unknown|      15|\n",
      "+-----------------+--------+\n",
      "\n"
     ]
    },
    {
     "name": "stderr",
     "output_type": "stream",
     "text": [
      "                                                                                \r"
     ]
    }
   ],
   "source": [
    "from pyspark.sql.functions import udf\n",
    "from pyspark.sql.types import StringType\n",
    "\n",
    "# Mapping based on the data dictionary\n",
    "payment_type_mapping = {\n",
    "    1: \"Credit card\",\n",
    "    2: \"Cash\",\n",
    "    3: \"No charge\",\n",
    "    4: \"Dispute\",\n",
    "    5: \"Unknown\",\n",
    "    \n",
    "}\n",
    "\n",
    "# Define a UDF to convert payment type codes to names\n",
    "def get_payment_type_name(payment_type_code):\n",
    "    return payment_type_mapping.get(payment_type_code, \"NULL\")\n",
    "\n",
    "udf_get_payment_type_name = udf(get_payment_type_name, StringType())\n",
    "\n",
    "# Apply the mapping to the DataFrame and show results\n",
    "pym = df2.withColumn(\"payment_type_name\", udf_get_payment_type_name(\"payment_type\")) \\\n",
    "  .groupBy(\"payment_type_name\") \\\n",
    "  .count() \\\n",
    "  .show()"
   ]
  },
  {
   "cell_type": "markdown",
   "id": "944b032c",
   "metadata": {},
   "source": [
    "- Most people use credit cards to pay for taxi rides. This shows they like using cards, probably because it's safer and makes sure the taxi drivers charge the right amount. This means supporting credit card payments in taxis is a good idea."
   ]
  },
  {
   "cell_type": "code",
   "execution_count": 19,
   "id": "2a79dc45",
   "metadata": {},
   "outputs": [
    {
     "name": "stderr",
     "output_type": "stream",
     "text": [
      "                                                                                \r"
     ]
    },
    {
     "data": {
      "image/png": "[encoded data removed]",
      "text/plain": [
       "<Figure size 800x600 with 1 Axes>"
      ]
     },
     "metadata": {},
     "output_type": "display_data"
    }
   ],
   "source": [
    "import matplotlib.pyplot as plt\n",
    "from pyspark.sql.functions import col, when\n",
    "\n",
    "# Assuming 'df2' is your PySpark DataFrame\n",
    "\n",
    "# Using PySpark's 'when' and 'otherwise' functions to create a new column with mapped labels\n",
    "df22 = df2.withColumn(\"payment_label\",\n",
    "                     when(col(\"payment_type\") == 1, \"Credit card\")\n",
    "                     .when(col(\"payment_type\") == 2, \"Cash\")\n",
    "                     .when(col(\"payment_type\") == 3, \"No charge\")\n",
    "                     .when(col(\"payment_type\") == 4, \"Dispute\")\n",
    "                     .when(col(\"payment_type\") == 5, \"Unknown\")\n",
    "                     .otherwise(\"Other\")\n",
    "                    )\n",
    "\n",
    "# Calculate counts for each unique value in the 'payment_label' column\n",
    "counts = df22.groupBy('payment_label').count().collect()\n",
    "\n",
    "# Extract labels and counts for the bar chart\n",
    "labels = [row['payment_label'] for row in counts]\n",
    "count_values = [row['count'] for row in counts]\n",
    "\n",
    "# Plotting the bar chart\n",
    "plt.figure(figsize=(8, 6))\n",
    "plt.bar(labels, count_values, color='skyblue')\n",
    "plt.xlabel('Payment Type')\n",
    "plt.ylabel('Count')\n",
    "plt.title('Count of Payment Types')\n",
    "plt.xticks(rotation=45)  # Rotate x-axis labels for better readability\n",
    "plt.tight_layout()\n",
    "plt.show()\n",
    "\n"
   ]
  },
  {
   "cell_type": "markdown",
   "id": "0e38b27d",
   "metadata": {},
   "source": [
    "- The bar chart shows that the most common ways people pay for taxis are with credit cards and cash."
   ]
  },
  {
   "cell_type": "markdown",
   "id": "2272044e",
   "metadata": {},
   "source": [
    "### Question 4"
   ]
  },
  {
   "cell_type": "markdown",
   "id": "c7d7fde8",
   "metadata": {},
   "source": [
    "#### what is the total amount for each payment method?"
   ]
  },
  {
   "cell_type": "code",
   "execution_count": 21,
   "id": "5f940bf1",
   "metadata": {},
   "outputs": [
    {
     "name": "stderr",
     "output_type": "stream",
     "text": [
      "                                                                                \r"
     ]
    },
    {
     "data": {
      "image/png": "[encoded data removed]",
      "text/plain": [
       "<Figure size 800x600 with 1 Axes>"
      ]
     },
     "metadata": {},
     "output_type": "display_data"
    }
   ],
   "source": [
    "import matplotlib.pyplot as plt\n",
    "from pyspark.sql import functions as F\n",
    "\n",
    "\n",
    "\n",
    "# Aggregate the total amount for each payment type\n",
    "agg_df = df22.groupBy('payment_label').agg(F.sum('total_amount').alias('total_amount_sum'))\n",
    "#agg_df = df2.groupBy('payment_type').agg(F.sum('total_amount').alias('total_amount_sum'))\n",
    "\n",
    "\n",
    "# Extract labels and total amounts for the bar chart\n",
    "labels = [row['payment_label'] for row in agg_df.collect()]\n",
    "total_amounts = [row['total_amount_sum'] for row in agg_df.collect()]\n",
    "\n",
    "# Plotting the bar chart\n",
    "plt.figure(figsize=(8, 6))\n",
    "bars = plt.bar(labels, total_amounts, color='skyblue')\n",
    "plt.xlabel('Payment Type')\n",
    "plt.ylabel('Total Amount')\n",
    "plt.title('Total Amount by Payment Types')\n",
    "plt.xticks(rotation=45)  # Rotate x-axis labels for better readability\n",
    "\n",
    "# Adding total amounts as text labels on each bar\n",
    "for bar, amount in zip(bars, total_amounts):\n",
    "    plt.text(bar.get_x() + bar.get_width() / 2, bar.get_height(), '${:,.2f}'.format(amount), ha='center', va='bottom')\n",
    "\n",
    "plt.tight_layout()\n",
    "plt.show()\n"
   ]
  },
  {
   "cell_type": "markdown",
   "id": "a94eb87b",
   "metadata": {},
   "source": [
    "- This shows the total amount paid by each payment method. The most used method is the credit card, with total payments of `$329,413,648.35`."
   ]
  },
  {
   "cell_type": "markdown",
   "id": "7bfa31f1",
   "metadata": {},
   "source": [
    "### Question 5\n"
   ]
  },
  {
   "cell_type": "markdown",
   "id": "f46d983d",
   "metadata": {},
   "source": [
    "#### How many  trip were recorded, store and forward to the server Immediately?"
   ]
  },
  {
   "cell_type": "code",
   "execution_count": 22,
   "id": "78b91344",
   "metadata": {},
   "outputs": [
    {
     "name": "stderr",
     "output_type": "stream",
     "text": [
      "[Stage 50:====================================================>   (17 + 1) / 18]\r"
     ]
    },
    {
     "name": "stdout",
     "output_type": "stream",
     "text": [
      "+------------------+--------+\n",
      "|Store_and_fwd_flag|   count|\n",
      "+------------------+--------+\n",
      "|                 Y|  245259|\n",
      "|                 N|23593672|\n",
      "+------------------+--------+\n",
      "\n"
     ]
    },
    {
     "name": "stderr",
     "output_type": "stream",
     "text": [
      "                                                                                \r"
     ]
    }
   ],
   "source": [
    "df2.groupBy('Store_and_fwd_flag').count().show()"
   ]
  },
  {
   "cell_type": "markdown",
   "id": "bdd75395",
   "metadata": {},
   "source": [
    "- There were `245,259` cases marked '`Y`' for store-and-forward trips, indicating the driver had server issues and had to send the data later.\n",
    "- On the other hand, in the `23,593,672` cases marked '`N`', it indicates that the drivers were able to immediately send data to the server without encountering any issues."
   ]
  },
  {
   "cell_type": "code",
   "execution_count": 25,
   "id": "b66acd8e",
   "metadata": {},
   "outputs": [
    {
     "data": {
      "image/png": "[encoded data removed]",
      "text/plain": [
       "<Figure size 800x600 with 1 Axes>"
      ]
     },
     "metadata": {},
     "output_type": "display_data"
    }
   ],
   "source": [
    "import matplotlib.pyplot as plt\n",
    "from pyspark.sql import functions as F\n",
    "\n",
    "# Assuming 'df2' is your PySpark DataFrame\n",
    "\n",
    "# Calculate percentages for each unique value in 'Store_and_fwd_flag' column\n",
    "counts = df2.groupBy('Store_and_fwd_flag').count()\n",
    "total_count = counts.agg(F.sum('count')).collect()[0][0]\n",
    "\n",
    "percentages = counts.withColumn('percentage', (F.col('count') / total_count) * 100).toPandas()\n",
    "\n",
    "# Plotting the donut chart\n",
    "plt.figure(figsize=(8, 6))\n",
    "\n",
    "# Outer pie chart (larger circle)\n",
    "outer_colors = ['#FF9999', '#66B2FF']  # Example colors, adjust as needed\n",
    "plt.pie(percentages['percentage'], labels=percentages['Store_and_fwd_flag'], autopct='%1.1f%%', startangle=140, colors=outer_colors, wedgeprops=dict(width=0.4, edgecolor='w'))\n",
    "\n",
    "# Inner pie chart (smaller circle to create the donut)\n",
    "inner_colors = ['#FFDAB9', '#ADD8E6']  # Example colors, adjust as needed\n",
    "plt.pie([100], radius=0.6, colors=inner_colors)\n",
    "\n",
    "plt.title('Percentage of Store_and_fwd_flag Occurrences')\n",
    "plt.axis('equal')\n",
    "plt.show()\n"
   ]
  },
  {
   "cell_type": "markdown",
   "id": "2a93b9e8",
   "metadata": {},
   "source": [
    "- Most of the trips, about `99%` of them, were recorded and sent to the server right away. Only `1%` were not. This shows that the internet in the taxi cars works really well. It looks like there's no need to make the internet connection better in the taxis right now."
   ]
  },
  {
   "cell_type": "markdown",
   "id": "9df51182",
   "metadata": {},
   "source": [
    "### Question 6"
   ]
  },
  {
   "cell_type": "markdown",
   "id": "da9e3e2a",
   "metadata": {},
   "source": [
    "#### What is the total amount of money collected during the year 2020?"
   ]
  },
  {
   "cell_type": "code",
   "execution_count": 23,
   "id": "262e6087",
   "metadata": {},
   "outputs": [
    {
     "name": "stderr",
     "output_type": "stream",
     "text": [
      "[Stage 53:====================================================>   (17 + 1) / 18]\r"
     ]
    },
    {
     "name": "stdout",
     "output_type": "stream",
     "text": [
      "Sum of Total amount of all trips in 2020: $ 427159372\n"
     ]
    },
    {
     "name": "stderr",
     "output_type": "stream",
     "text": [
      "                                                                                \r"
     ]
    }
   ],
   "source": [
    "# Calculate the sum of the 'Total_amount' column\n",
    "total_amount_sum = df2.agg(spark_sum('Total_amount')).collect()[0][0]\n",
    "\n",
    "# Convert the sum to an integer\n",
    "total_amount_sum_int = int(total_amount_sum)\n",
    "\n",
    "# Show the sum of 'Total_amount' column\n",
    "print(\"Sum of Total amount of all trips in 2020:\", \"$\",total_amount_sum_int)"
   ]
  },
  {
   "cell_type": "markdown",
   "id": "dd71aea5",
   "metadata": {},
   "source": [
    "### Question 7"
   ]
  },
  {
   "cell_type": "markdown",
   "id": "652cd3ea",
   "metadata": {},
   "source": [
    "#### Through the taxi operating companies, what is the company most used by people?, and what is the total of these amounts for each company?"
   ]
  },
  {
   "cell_type": "code",
   "execution_count": 26,
   "id": "e60e77f6",
   "metadata": {},
   "outputs": [
    {
     "name": "stderr",
     "output_type": "stream",
     "text": [
      "                                                                                \r"
     ]
    },
    {
     "data": {
      "image/png": "[encoded data removed]",
      "text/plain": [
       "<Figure size 1600x600 with 2 Axes>"
      ]
     },
     "metadata": {},
     "output_type": "display_data"
    }
   ],
   "source": [
    "import matplotlib.pyplot as plt\n",
    "from pyspark.sql import functions as F\n",
    "\n",
    "df33 = df2.withColumn(\"VendorID2\",\n",
    "                      F.when(F.col(\"VendorID\") == 1, \"Creative Mobile Technologies, LLC\")\n",
    "                      .when(F.col(\"VendorID\") == 2, \"VeriFone Inc\")\n",
    "                     )\n",
    "\n",
    "# Aggregate the total amount for each VendorID2\n",
    "agg3_df = df33.groupBy('VendorID2').agg(F.sum('total_amount').alias('total_amount_sum'))\n",
    "\n",
    "# Convert VendorID2 to strings explicitly\n",
    "labels = [str(row['VendorID2']) for row in agg3_df.collect()]\n",
    "total_amounts = [row['total_amount_sum'] for row in agg3_df.collect()]\n",
    "\n",
    "# Calculate percentages\n",
    "total = sum(total_amounts)\n",
    "percentages = [amount / total * 100 for amount in total_amounts]\n",
    "\n",
    "# Plotting both bar chart and pie chart\n",
    "fig, ax = plt.subplots(1, 2, figsize=(16, 6))\n",
    "\n",
    "# Bar chart\n",
    "ax[0].bar(labels, total_amounts, color='skyblue')\n",
    "ax[0].set_xlabel('Vendor')\n",
    "ax[0].set_ylabel('Total Amount')\n",
    "ax[0].set_title('Total Amount by Vendor')\n",
    "ax[0].tick_params(axis='x', rotation=45)\n",
    "\n",
    "# Pie chart\n",
    "ax[1].pie(percentages, labels=labels, autopct='%1.1f%%', startangle=140, colors=['skyblue', 'lightgreen'])\n",
    "ax[1].set_title('Percentage of Total Amount by Vendor')\n",
    "\n",
    "plt.tight_layout()\n",
    "plt.show()"
   ]
  },
  {
   "cell_type": "markdown",
   "id": "ef402968",
   "metadata": {},
   "source": [
    "| <img src=\"./images/verifone_logo.png\"> | **VS.** | <img src=\"./images/CMT_logo.png\"> |\n",
    "|-----------------|-----------------|-----------------|\n",
    "\n"
   ]
  },
  {
   "cell_type": "markdown",
   "id": "0aa49816",
   "metadata": {},
   "source": [
    "- In 2020, NYC taxis mainly worked with two companies: Creative Mobile Technologies, LLC and VeriFone Inc. They handle payments and other systems in yellow taxis.\n",
    "\n",
    "- The bar chart shows that VeriFone Inc made more money, earning `$285,267,077.72USD`.\n",
    "- Creative Mobile Technologies, LLC earned less, making `$141,892,294.87USD`.\n",
    "\n",
    "- The pie chart also shows how much each company earned compared to the other. This helps us see how much bigger VeriFone Inc is in the market.\n",
    "\n",
    "- This data tells us VeriFone Inc is way ahead because they offer better services and make it easy for people to pay and use other services. This means Creative Mobile Technologies, LLC needs to improve what they offer to catch up."
   ]
  }
 ],
 "metadata": {
  "kernelspec": {
   "display_name": "Python 3 (ipykernel)",
   "language": "python",
   "name": "python3"
  },
  "language_info": {
   "codemirror_mode": {
    "name": "ipython",
    "version": 3
   },
   "file_extension": ".py",
   "mimetype": "text/x-python",
   "name": "python",
   "nbconvert_exporter": "python",
   "pygments_lexer": "ipython3",
   "version": "3.10.6"
  }
 },
 "nbformat": 4,
 "nbformat_minor": 5
}
